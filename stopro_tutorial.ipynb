{
 "cells": [
  {
   "cell_type": "markdown",
   "metadata": {},
   "source": [
    "### 1) GET LIBRARY"
   ]
  },
  {
   "cell_type": "code",
   "execution_count": 1,
   "metadata": {},
   "outputs": [],
   "source": [
    "import numpy as np\n",
    "import random\n",
    "import matplotlib.pyplot as plt\n",
    "import seaborn as sns\n",
    "from sklearn.model_selection import train_test_split\n",
    "from sklearn.ensemble import RandomForestRegressor\n",
    "from sklearn.linear_model import LinearRegression\n",
    "import pandas as pd\n",
    "np.random.seed(123)"
   ]
  },
  {
   "cell_type": "markdown",
   "metadata": {},
   "source": [
    "### 2) GENERATE DATA"
   ]
  },
  {
   "cell_type": "code",
   "execution_count": 2,
   "metadata": {},
   "outputs": [],
   "source": [
    "num_data = 10000\n",
    "a = 0.25 \n",
    "b = 2 \n",
    "\n",
    "x = np.random.poisson(100, num_data)\n",
    "x = x.reshape((-1,1))\n",
    "\n",
    "y = a*x + b\n",
    "y = y.reshape((-1,1))\n",
    "y = y.astype(int)"
   ]
  },
  {
   "cell_type": "code",
   "execution_count": 3,
   "metadata": {},
   "outputs": [
    {
     "data": {
      "image/png": "[encoded data removed]",
      "text/plain": [
       "<Figure size 432x288 with 1 Axes>"
      ]
     },
     "metadata": {
      "needs_background": "light"
     },
     "output_type": "display_data"
    }
   ],
   "source": [
    "plt.figure()\n",
    "sns.distplot(y)\n",
    "plt.show()"
   ]
  },
  {
   "cell_type": "markdown",
   "metadata": {},
   "source": [
    "### 3) IMPLEMENT SIMPLE PREDICTION"
   ]
  },
  {
   "cell_type": "code",
   "execution_count": 4,
   "metadata": {},
   "outputs": [],
   "source": [
    "train_x, test_x, train_y, test_y = train_test_split(x, y, test_size=0.2)"
   ]
  },
  {
   "cell_type": "code",
   "execution_count": 5,
   "metadata": {},
   "outputs": [],
   "source": [
    "df_train = pd.DataFrame({'train_x': train_x.flatten(), 'train_y': train_y.flatten()})\n",
    "df_test = pd.DataFrame({'test_x': test_x.flatten(), 'test_y': test_y.flatten()})"
   ]
  },
  {
   "cell_type": "markdown",
   "metadata": {},
   "source": [
    "#### a) RANDOM FOREST"
   ]
  },
  {
   "cell_type": "code",
   "execution_count": 6,
   "metadata": {},
   "outputs": [
    {
     "name": "stderr",
     "output_type": "stream",
     "text": [
      "/usr/local/lib/python2.7/dist-packages/ipykernel_launcher.py:2: DataConversionWarning: A column-vector y was passed when a 1d array was expected. Please change the shape of y to (n_samples,), for example using ravel().\n",
      "  \n"
     ]
    },
    {
     "data": {
      "text/plain": [
       "RandomForestRegressor(bootstrap=True, criterion='mse', max_depth=None,\n",
       "           max_features='auto', max_leaf_nodes=None,\n",
       "           min_impurity_decrease=0.0, min_impurity_split=None,\n",
       "           min_samples_leaf=1, min_samples_split=2,\n",
       "           min_weight_fraction_leaf=0.0, n_estimators=1000, n_jobs=None,\n",
       "           oob_score=False, random_state=42, verbose=0, warm_start=False)"
      ]
     },
     "execution_count": 6,
     "metadata": {},
     "output_type": "execute_result"
    }
   ],
   "source": [
    "rf = RandomForestRegressor(n_estimators = 1000, random_state = 42)\n",
    "rf.fit(train_x, train_y)"
   ]
  },
  {
   "cell_type": "code",
   "execution_count": 7,
   "metadata": {},
   "outputs": [
    {
     "name": "stdout",
     "output_type": "stream",
     "text": [
      "('Mean Absolute Error:', 2.77, 'degrees.')\n"
     ]
    }
   ],
   "source": [
    "test_y_rfpred = (rf.predict(test_x)).astype(int)\n",
    "err_rf = abs(test_y_rfpred - test_y)\n",
    "print('Mean Absolute Error:', round(np.mean(err_rf), 2), 'degrees.')"
   ]
  },
  {
   "cell_type": "markdown",
   "metadata": {},
   "source": [
    "#### b) LINEAR REGRESSION"
   ]
  },
  {
   "cell_type": "code",
   "execution_count": 8,
   "metadata": {},
   "outputs": [
    {
     "data": {
      "text/plain": [
       "LinearRegression(copy_X=True, fit_intercept=True, n_jobs=None,\n",
       "         normalize=False)"
      ]
     },
     "execution_count": 8,
     "metadata": {},
     "output_type": "execute_result"
    }
   ],
   "source": [
    "lr = LinearRegression()\n",
    "lr.fit(train_x, train_y)"
   ]
  },
  {
   "cell_type": "code",
   "execution_count": 9,
   "metadata": {},
   "outputs": [
    {
     "name": "stdout",
     "output_type": "stream",
     "text": [
      "('Mean Absolute Error:', 2.77, 'degrees.')\n"
     ]
    }
   ],
   "source": [
    "test_y_lrpred = (rf.predict(test_x)).astype(int)\n",
    "err_lr = abs(test_y_lrpred - test_y)\n",
    "print('Mean Absolute Error:', round(np.mean(err_lr), 2), 'degrees.')"
   ]
  },
  {
   "cell_type": "code",
   "execution_count": 10,
   "metadata": {},
   "outputs": [
    {
     "name": "stdout",
     "output_type": "stream",
     "text": [
      "[[0.24940083]]\n",
      "[1.68344031]\n"
     ]
    }
   ],
   "source": [
    "print(lr.coef_) # check a\n",
    "print(lr.intercept_) # check b"
   ]
  },
  {
   "cell_type": "markdown",
   "metadata": {},
   "source": [
    "#### c) SUMMARIZE RESULT & CHECK GRAPH"
   ]
  },
  {
   "cell_type": "code",
   "execution_count": 11,
   "metadata": {},
   "outputs": [
    {
     "data": {
      "text/html": [
       "<div>\n",
       "<style scoped>\n",
       "    .dataframe tbody tr th:only-of-type {\n",
       "        vertical-align: middle;\n",
       "    }\n",
       "\n",
       "    .dataframe tbody tr th {\n",
       "        vertical-align: top;\n",
       "    }\n",
       "\n",
       "    .dataframe thead th {\n",
       "        text-align: right;\n",
       "    }\n",
       "</style>\n",
       "<table border=\"1\" class=\"dataframe\">\n",
       "  <thead>\n",
       "    <tr style=\"text-align: right;\">\n",
       "      <th></th>\n",
       "      <th>test_y</th>\n",
       "      <th>test_y_lrpred</th>\n",
       "      <th>test_y_rfpred</th>\n",
       "      <th>actual_rf</th>\n",
       "      <th>actual_lr</th>\n",
       "    </tr>\n",
       "  </thead>\n",
       "  <tbody>\n",
       "    <tr>\n",
       "      <th>1145</th>\n",
       "      <td>36</td>\n",
       "      <td>35</td>\n",
       "      <td>35</td>\n",
       "      <td>-1</td>\n",
       "      <td>-1</td>\n",
       "    </tr>\n",
       "  </tbody>\n",
       "</table>\n",
       "</div>"
      ],
      "text/plain": [
       "      test_y  test_y_lrpred  test_y_rfpred  actual_rf  actual_lr\n",
       "1145      36             35             35         -1         -1"
      ]
     },
     "execution_count": 11,
     "metadata": {},
     "output_type": "execute_result"
    }
   ],
   "source": [
    "df_summ = pd.DataFrame({'test_y': test_y.flatten(), \n",
    "                        'test_y_rfpred': test_y_rfpred.flatten(), \n",
    "                        'test_y_lrpred': test_y_lrpred.flatten()})\n",
    "df_summ['actual_rf'] = df_summ['test_y_rfpred'] - df_summ['test_y']\n",
    "df_summ['actual_lr'] = df_summ['test_y_lrpred'] - df_summ['test_y']\n",
    "df_summ[(df_summ['actual_rf'] != 0) | (df_summ['actual_lr'] != 0)]"
   ]
  },
  {
   "cell_type": "code",
   "execution_count": 12,
   "metadata": {},
   "outputs": [
    {
     "data": {
      "text/plain": [
       "<Figure size 432x288 with 0 Axes>"
      ]
     },
     "metadata": {},
     "output_type": "display_data"
    },
    {
     "data": {
      "image/png": "[encoded data removed]",
      "text/plain": [
       "<Figure size 432x288 with 1 Axes>"
      ]
     },
     "metadata": {
      "needs_background": "light"
     },
     "output_type": "display_data"
    }
   ],
   "source": [
    "plt.figure()\n",
    "\n",
    "components = [test_y, test_y_rfpred, test_y_lrpred]\n",
    "labels=['test_y', 'test_y_rfpred', 'test_y_lrpred']\n",
    "\n",
    "fig, axes = plt.subplots(1)\n",
    "for component in components:\n",
    "    sns.distplot(component)\n",
    "\n",
    "axes.legend(labels=labels)    \n",
    "plt.show()"
   ]
  },
  {
   "cell_type": "markdown",
   "metadata": {},
   "source": [
    "### 4) STOCHASTIC PROGRAMMING\n",
    "#### a) DISCRETIZING DEMAND"
   ]
  },
  {
   "cell_type": "code",
   "execution_count": 19,
   "metadata": {},
   "outputs": [],
   "source": [
    "from sklearn.cluster import KMeans\n",
    "from pulp import *\n",
    "\n",
    "# do clustering to generate scenario (max 100 scenario for now)\n",
    "def cluster_1d(df, max_cluster=100):\n",
    "    km = KMeans(n_clusters=min(len(df.unique()),max_cluster))\n",
    "    km.fit(df.values.reshape(-1,1)) \n",
    "    \n",
    "    # get information about center\n",
    "    cluster_centers_df = pd.DataFrame(np.array(km.cluster_centers_.reshape(1,-1)[0].tolist()))\n",
    "    cluster_centers_df.columns = ['cluster_centers']\n",
    "    cluster_centers_df['labels'] = range(cluster_centers_df.count())\n",
    "    \n",
    "    # get information about labels and add information about center\n",
    "    cluster_labels_df = pd.DataFrame(np.array(km.labels_))\n",
    "    cluster_labels_df.columns = ['labels']\n",
    "    cluster_labels_df = pd.concat([df.reset_index(drop=True), cluster_labels_df], axis=1)\n",
    "    cluster_labels_df = pd.merge(cluster_labels_df, cluster_centers_df, on='labels', how='left')\n",
    "    \n",
    "    return cluster_centers_df, cluster_labels_df"
   ]
  },
  {
   "cell_type": "code",
   "execution_count": 20,
   "metadata": {},
   "outputs": [],
   "source": [
    "cluster_centers_df, cluster_labels_df = cluster_1d(df_train['train_y'])\n",
    "\n",
    "count_label = cluster_labels_df[['labels']].count().values[0]\n",
    "cluster_proportion_df = cluster_labels_df[['cluster_centers', 'labels']].groupby('cluster_centers').count().reset_index(drop=False)\n",
    "cluster_proportion_df['count_labels'] = count_label\n",
    "cluster_proportion_df['proportion_labels'] = cluster_proportion_df['labels'] / cluster_proportion_df['count_labels']\n",
    "cluster_proportion_df['index'] = range(1,cluster_proportion_df.shape[0] + 1)\n",
    "cluster_proportion_df['cluster_centers'] = np.round(cluster_proportion_df['cluster_centers'], decimals=(3))"
   ]
  },
  {
   "cell_type": "code",
   "execution_count": 44,
   "metadata": {},
   "outputs": [],
   "source": [
    "demand = pd.Series(cluster_proportion_df['cluster_centers'].values, index=cluster_proportion_df['index'].values).to_dict()\n",
    "weight = pd.Series(cluster_proportion_df['proportion_labels'].values, index=cluster_proportion_df['index'].values).to_dict()\n",
    "scenarios = range(1,len(cluster_proportion_df.cluster_centers.values)+1)"
   ]
  },
  {
   "cell_type": "code",
   "execution_count": 45,
   "metadata": {},
   "outputs": [
    {
     "name": "stdout",
     "output_type": "stream",
     "text": [
      "{1: 18.0, 2: 19.0, 3: 20.0, 4: 21.0, 5: 22.0, 6: 23.0, 7: 24.0, 8: 25.0, 9: 26.0, 10: 27.0, 11: 28.0, 12: 29.0, 13: 30.0, 14: 31.0, 15: 32.0, 16: 33.0, 17: 34.0, 18: 35.0, 19: 38.0}\n",
      "{1: 0.0005, 2: 0.000875, 3: 0.002625, 4: 0.010375, 5: 0.031, 6: 0.059875, 7: 0.0965, 8: 0.13225, 9: 0.1505, 10: 0.154375, 11: 0.13475, 12: 0.102125, 13: 0.0615, 14: 0.0325, 15: 0.017625, 16: 0.0075, 17: 0.003625, 18: 0.001375, 19: 0.000125}\n",
      "[1, 2, 3, 4, 5, 6, 7, 8, 9, 10, 11, 12, 13, 14, 15, 16, 17, 18, 19]\n"
     ]
    }
   ],
   "source": [
    "print(demand)\n",
    "print(weight)\n",
    "print(scenarios)"
   ]
  },
  {
   "cell_type": "markdown",
   "metadata": {},
   "source": [
    "#### b) USING PULP TO SOLVE STOCHASTIC PROGRAMMING"
   ]
  },
  {
   "cell_type": "code",
   "execution_count": 23,
   "metadata": {},
   "outputs": [
    {
     "name": "stdout",
     "output_type": "stream",
     "text": [
      "18.0\n",
      "0.0005\n",
      "19.0\n",
      "0.000875\n",
      "20.0\n",
      "0.002625\n",
      "21.0\n",
      "0.010375\n",
      "22.0\n",
      "0.031\n",
      "23.0\n",
      "0.059875\n",
      "24.0\n",
      "0.0965\n",
      "25.0\n",
      "0.13225\n",
      "26.0\n",
      "0.1505\n",
      "27.0\n",
      "0.154375\n",
      "28.0\n",
      "0.13475\n",
      "29.0\n",
      "0.102125\n",
      "30.0\n",
      "0.0615\n",
      "31.0\n",
      "0.0325\n",
      "32.0\n",
      "0.017625\n",
      "33.0\n",
      "0.0075\n",
      "34.0\n",
      "0.003625\n",
      "35.0\n",
      "0.001375\n",
      "38.0\n",
      "0.000125\n",
      "Status = Optimal\n",
      "x = 23.000000\n",
      "z_1 = 18.000000\n",
      "z_2 = 19.000000\n",
      "z_3 = 20.000000\n",
      "z_4 = 21.000000\n",
      "z_5 = 22.000000\n",
      "z_6 = 23.000000\n",
      "z_7 = 23.000000\n",
      "z_8 = 23.000000\n",
      "z_9 = 23.000000\n",
      "z_10 = 23.000000\n",
      "z_11 = 23.000000\n",
      "z_12 = 23.000000\n",
      "z_13 = 23.000000\n",
      "z_14 = 23.000000\n",
      "z_15 = 23.000000\n",
      "z_16 = 23.000000\n",
      "z_17 = 23.000000\n",
      "z_18 = 23.000000\n",
      "z_19 = 23.000000\n",
      "Objective = 21.621875\n"
     ]
    }
   ],
   "source": [
    "N = 100\n",
    "\n",
    "##########################################\n",
    "# DEFINE VARIABLES\n",
    "##########################################\n",
    "\n",
    "M = LpProblem(\"Newsvendor1\", LpMaximize)\n",
    "\n",
    "x = LpVariable('x', lowBound=0)\n",
    "z = LpVariable.dicts('z', scenarios, 0)\n",
    "# s = LpVariable.dicts('s', scenarios)\n",
    "\n",
    "##########################################\n",
    "# DEFINE MODELS: OBJECTIVE + CONSTRAINTS\n",
    "##########################################\n",
    "\n",
    "for i in scenarios:\n",
    "    print(demand[i])\n",
    "    print(weight[i])\n",
    "    M += x <= N\n",
    "    M += z[i] <= x\n",
    "    M += z[i] <= demand[i]\n",
    "    \n",
    "M += sum(weight[i] * (sell_price * z[i] + waste_price * (x - z[i])) for i in scenarios) - (cost_price * x) \n",
    "M.solve()\n",
    "\n",
    "\n",
    "##########################################\n",
    "# PRINT RESULTS\n",
    "##########################################\n",
    "\n",
    "print(\"Status = %s\" % LpStatus[M.status])\n",
    "\n",
    "print(\"%s = %f\" % (x.name, x.varValue))\n",
    "for i in scenarios:\n",
    "    print(\"%s = %f\" % (z[i].name, z[i].varValue))\n",
    "print(\"Objective = %f\" % (M.objective.value()))\n",
    "\n"
   ]
  },
  {
   "cell_type": "markdown",
   "metadata": {},
   "source": [
    "#### c) CHECK AS TABLE: TO SEE CLEARLY WHAT HAPPENS"
   ]
  },
  {
   "cell_type": "code",
   "execution_count": 67,
   "metadata": {},
   "outputs": [],
   "source": [
    "purchase_df = pd.DataFrame({'key': 0, 'item_to_purchase': demand})\n",
    "example_df = pd.DataFrame({'key': 0, 'item_to_sell': cluster_proportion_df['cluster_centers'], \n",
    "                   'probability': cluster_proportion_df['proportion_labels']})\n",
    "example_df = example_df.merge(purchase_df, on='key', how='outer')\n",
    "example_df = example_df.drop('key', axis=1).sort_values(['item_to_purchase', 'item_to_sell'])\n"
   ]
  },
  {
   "cell_type": "code",
   "execution_count": 72,
   "metadata": {},
   "outputs": [],
   "source": [
    "example_df['total_revenue'] = example_df[['item_to_sell', 'item_to_purchase']].min(axis=1) * sell_price\n",
    "example_df['total_cost'] = example_df['item_to_purchase'] * cost_price\n",
    "example_df['total_profit'] = (example_df['total_revenue'] - example_df['total_cost'])\n",
    "example_df['total_weighted_profit'] = example_df['probability'] * example_df['total_profit']\n",
    "example_df['total_cumsum_profit'] = example_df.groupby('item_to_purchase')['total_weighted_profit'].cumsum()\n",
    "\n",
    "example_df_summ = example_df.groupby('item_to_purchase', as_index=False)['total_weighted_profit'].sum()"
   ]
  },
  {
   "cell_type": "code",
   "execution_count": 104,
   "metadata": {},
   "outputs": [],
   "source": [
    "temp = example_df[(example_df['item_to_purchase'] >= 20) & (example_df['item_to_purchase'] <= 25)]\n",
    "temp.loc[:,'item_to_purchase'] = temp['item_to_purchase'].astype('str')"
   ]
  },
  {
   "cell_type": "code",
   "execution_count": 142,
   "metadata": {},
   "outputs": [
    {
     "data": {
      "image/png": "[encoded data removed]",
      "text/plain": [
       "<Figure size 432x288 with 1 Axes>"
      ]
     },
     "metadata": {
      "needs_background": "light"
     },
     "output_type": "display_data"
    }
   ],
   "source": [
    "fig, ax = plt.subplots()\n",
    "\n",
    "for i in temp['item_to_purchase'].unique():\n",
    "    temp[temp['item_to_purchase'] == i].plot.line(x='item_to_purchase', y='total_weighted_profit', ax=ax, label=str(i))\n",
    "plt.xticks(range(0,np.unique(temp['item_to_sell']).shape[0]),np.unique(temp['item_to_sell']),rotation=45)\n",
    "plt.show()"
   ]
  },
  {
   "cell_type": "code",
   "execution_count": 80,
   "metadata": {},
   "outputs": [
    {
     "data": {
      "image/png": "[encoded data removed]",
      "text/plain": [
       "<Figure size 432x288 with 1 Axes>"
      ]
     },
     "metadata": {
      "needs_background": "light"
     },
     "output_type": "display_data"
    }
   ],
   "source": [
    "plt.figure()\n",
    "sns.scatterplot(x='item_to_purchase', y='total_weighted_profit', data=example_df_summ)\n",
    "plt.show()"
   ]
  }
 ],
 "metadata": {
  "kernelspec": {
   "display_name": "Python 2",
   "language": "python",
   "name": "python2"
  },
  "language_info": {
   "codemirror_mode": {
    "name": "ipython",
    "version": 2
   },
   "file_extension": ".py",
   "mimetype": "text/x-python",
   "name": "python",
   "nbconvert_exporter": "python",
   "pygments_lexer": "ipython2",
   "version": "2.7.12"
  }
 },
 "nbformat": 4,
 "nbformat_minor": 2
}
